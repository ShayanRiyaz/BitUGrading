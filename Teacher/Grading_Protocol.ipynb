{
 "cells": [
  {
   "cell_type": "markdown",
   "metadata": {
    "colab_type": "text",
    "id": "0gzHwU-XJfom"
   },
   "source": [
    "\n",
    "\n",
    "# Method \n",
    "This involves grading the students answers\n",
    "For this format we will be following the directory struture, Before Begining the programing please make sure you have the following structure. \n",
    "```\n",
    ".\n",
    "├── DigitalHistory\n",
    "│   ├──Assignments_To_Be_Graded\n",
    "│       ├── Student_id\n",
    "│          └── Week_Two\n",
    "│              └── NowTryThis\n",
    "│                  └── One.py\n",
    "│                  └── Two.py\n",
    "│                  └── ....\n",
    "│                  └── n.py\n",
    "│              └── Homework\n",
    "│                  └── One.py\n",
    "│                  └── Two.py\n",
    "│                  └── ....\n",
    "│                  └── n.py\n",
    "│              └── Week_Three\n",
    "│                  └── NowTryThis\n",
    "│                  └── One.py\n",
    "│                  └── ...\n",
    "│              └── Homework\n",
    "│                  └── One.py\n",
    "│                  └── ....\n",
    "│   ├──Assignments_Graded\n",
    "``` "
   ]
  },
  {
   "cell_type": "code",
   "execution_count": 1,
   "metadata": {},
   "outputs": [],
   "source": [
    "import BitGrading\n",
    "import pandas as pd\n",
    "import numpy as np\n",
    "import os\n",
    "import ast \n",
    "import shutil\n",
    "import subprocess\n",
    "\n",
    "initialize = False\n",
    "DIRECTORY = 'DigitalHistory/Assignments_To_Be_Graded'"
   ]
  },
  {
   "cell_type": "markdown",
   "metadata": {
    "colab_type": "text",
    "id": "inZtT6OwTYX3"
   },
   "source": [
    "\n",
    "## Step 1 : Initialization - Repeat only once."
   ]
  },
  {
   "cell_type": "code",
   "execution_count": 2,
   "metadata": {
    "cellView": "both",
    "colab": {
     "base_uri": "https://localhost:8080/",
     "height": 34
    },
    "colab_type": "code",
    "id": "feFFTnAv9373",
    "outputId": "eb7e7f86-f2d8-4c40-f135-8009716048c3"
   },
   "outputs": [
    {
     "name": "stdout",
     "output_type": "stream",
     "text": [
      "These are all the student Id's in our Directory : ['123456789', '016993270']\n",
      "\n",
      "These are the Weeks inside 123456789: ['Week_Two']\n",
      "Enter the name of the folder you want to grade: Week_Two\n",
      "\n",
      "These are the Assignment Types inside 123456789: ['Now_Try_This']\n",
      "Enter the name of the assignment type you want to grade: Now_Try_This\n",
      "Input the number of questions in this assignment: 6\n",
      "Initializaing the Points Tally for the Students\n",
      "This is your grade sheet with all the Student Ids\n",
      "          ID   Q1   Q2   Q3   Q4   Q5   Q6\n",
      "0  123456789  0.0  0.0  0.0  0.0  0.0  0.0\n",
      "1  016993270  0.0  0.0  0.0  0.0  0.0  0.0\n",
      " Would you like to set up the Correct Answers for the Questions right now\n",
      " or would you prefer setting them up manually?\n",
      " Pleae answer with Y or N respectively [Y/N]: N\n",
      " You will be manually entering the answers below for each question\n"
     ]
    }
   ],
   "source": [
    "student_ids = BitGrading.get_student_ids(DIRECTORY,change_dir=False)\n",
    "print(f\"These are all the student Id's in our Directory : {student_ids}\\n\")\n",
    "print(f\"These are the Weeks inside {student_ids[0]}: {os.listdir(f'DigitalHistory/Assignments_To_Be_Graded/{student_ids[0]}')}\")\n",
    "WEEK_NUM = input('Enter the name of the folder you want to grade: ')\n",
    "print(f\"\\nThese are the Assignment Types inside {student_ids[0]}: {os.listdir(f'DigitalHistory/Assignments_To_Be_Graded/{student_ids[0]}/{WEEK_NUM}')}\")\n",
    "ASSIGNMENT_TYPE = input('Enter the name of the assignment type you want to grade: ')\n",
    "\n",
    "Grading_Sheet,num_questions = BitGrading.make_grade_sheet(student_ids)\n",
    "while not initialize:\n",
    "    correct_answer,manual = BitGrading.make_answer_key(num_questions)\n",
    "    initialize = True\n",
    "if manual == 'Y':\n",
    "    correct_answer\n",
    "\n",
    "\n"
   ]
  },
  {
   "cell_type": "code",
   "execution_count": 3,
   "metadata": {},
   "outputs": [
    {
     "ename": "IndexError",
     "evalue": "list index out of range",
     "output_type": "error",
     "traceback": [
      "\u001b[0;31m---------------------------------------------------------------------------\u001b[0m",
      "\u001b[0;31mIndexError\u001b[0m                                Traceback (most recent call last)",
      "\u001b[0;32m<ipython-input-3-ada7efa292bb>\u001b[0m in \u001b[0;36m<module>\u001b[0;34m\u001b[0m\n\u001b[0;32m----> 1\u001b[0;31m \u001b[0mcorrect_answer\u001b[0m\u001b[0;34m[\u001b[0m\u001b[0;36m0\u001b[0m\u001b[0;34m]\u001b[0m\u001b[0;34m\u001b[0m\u001b[0;34m\u001b[0m\u001b[0m\n\u001b[0m",
      "\u001b[0;31mIndexError\u001b[0m: list index out of range"
     ]
    }
   ],
   "source": []
  },
  {
   "cell_type": "markdown",
   "metadata": {},
   "source": [
    "## Step 2 - Grade Students"
   ]
  },
  {
   "cell_type": "code",
   "execution_count": null,
   "metadata": {
    "cellView": "both",
    "colab": {
     "base_uri": "https://localhost:8080/",
     "height": 118
    },
    "colab_type": "code",
    "id": "NOBeFmwD2Exn",
    "outputId": "3abfa147-3708-4cbd-d376-48d6028b8128"
   },
   "outputs": [],
   "source": [
    "student_ids = BitGrading.get_student_ids(DIRECTORY,change_dir=True)\n",
    "week_path = BitGrading.week(student_ids[0],WEEK_NUM)\n",
    "file_path = BitGrading.homework_or_NTT(week_path,ASSIGNMENT_TYPE)\n",
    "\n",
    "assignment_list = BitGrading.get_python_list(file_path)\n",
    "print(f'Currently Grading {student_ids[0]} -> {WEEK_NUM} - > {ASSIGNMENT_TYPE} Section.')\n",
    "os.chdir(file_path)"
   ]
  },
  {
   "cell_type": "markdown",
   "metadata": {},
   "source": [
    "## Question 1 Grading\n",
    "### Option 1\n",
    "```\n",
    "question_number = assignment_list[0]\n",
    "%load $question_number\n",
    "```\n",
    "### Option 2\n",
    "```\n",
    "%run 1.py\n",
    "```"
   ]
  },
  {
   "cell_type": "code",
   "execution_count": null,
   "metadata": {
    "colab": {},
    "colab_type": "code",
    "id": "SzTTt5wiToUL"
   },
   "outputs": [],
   "source": [
    "%run 1.py"
   ]
  },
  {
   "cell_type": "markdown",
   "metadata": {},
   "source": [
    "### Q1 - Test Cases"
   ]
  },
  {
   "cell_type": "code",
   "execution_count": null,
   "metadata": {},
   "outputs": [],
   "source": [
    "answers = [answer1,answer2,answer3]\n",
    "\n",
    "if manual == 'N':\n",
    "    correct_answer_key,question = BitGrading.mannual_answer_key(1)\n",
    "    print(f'\\n The correct answer key for {question} is {correct_answer_key}')\n",
    "    BitGrading.grade_question('Q1',student_ids,Grading_Sheet,answers,correct_answer_key[0])\n",
    "    print(f'\\n{Grading_Sheet.loc[Grading_Sheet.ID == student_ids[0]]}')\n",
    "else:   \n",
    "    BitGrading.grade_question('Q1',student_ids,Grading_Sheet,answers,correct_answer[0])\n",
    "    print(Grading_Sheet.loc[Grading_Sheet.ID == student_ids[0]])\n",
    "    \n"
   ]
  },
  {
   "cell_type": "markdown",
   "metadata": {},
   "source": [
    "## Question 2 Grading\n",
    "### Option 1\n",
    "```\n",
    "question_number = assignment_list[1]\n",
    "%load $question_number\n",
    "```\n",
    "### Option 2\n",
    "```\n",
    "%run 2.py\n",
    "```"
   ]
  },
  {
   "cell_type": "code",
   "execution_count": null,
   "metadata": {
    "colab": {},
    "colab_type": "code",
    "id": "4LOMbzfXFdfU"
   },
   "outputs": [],
   "source": [
    "%run 2.py"
   ]
  },
  {
   "cell_type": "markdown",
   "metadata": {},
   "source": [
    "### Q2 - Test Cases"
   ]
  },
  {
   "cell_type": "code",
   "execution_count": null,
   "metadata": {},
   "outputs": [],
   "source": [
    "answers = [answer1,list3,answer2]\n",
    "if manual == 'N':\n",
    "    correct_answer_key,question = BitGrading.mannual_answer_key(2)\n",
    "    print(f'\\n The correct answer key for {question} is {correct_answer_key}')\n",
    "    BitGrading.grade_question('Q2',student_ids,grade_sheet,answers,correct_answer_key[1])\n",
    "    print(f'\\n{grade_sheet.loc[grade_sheet.ID == student_ids[0]]}')\n",
    "else:   \n",
    "    BitGrading.grade_question('Q2',student_ids,grade_sheet,answers,correct_answer[1])\n",
    "    grade_sheet.loc[grade_sheet.ID == student_ids[0]]"
   ]
  },
  {
   "cell_type": "markdown",
   "metadata": {},
   "source": [
    "## Question 3 - Grading\n",
    "### Option 1\n",
    "```\n",
    "question_number = assignment_list[2]\n",
    "%load $question_number\n",
    "```\n",
    "\n",
    "### Option 2\n",
    "```\n",
    "%run 3.py\n",
    "```"
   ]
  },
  {
   "cell_type": "code",
   "execution_count": null,
   "metadata": {},
   "outputs": [],
   "source": [
    "%run 3.py"
   ]
  },
  {
   "cell_type": "markdown",
   "metadata": {},
   "source": [
    "### Q3 - Test Cases"
   ]
  },
  {
   "cell_type": "code",
   "execution_count": null,
   "metadata": {},
   "outputs": [],
   "source": [
    "answers = [t]\n",
    "#correct_answer = [(1,2,3)]\n",
    "if manual == 'N':\n",
    "    correct_answer_key,question = BitGrading.mannual_answer_key(3)\n",
    "    print(f'\\n The correct answer key for {question} is {correct_answer_key}')\n",
    "    BitGrading.grade_question('Q3',student_ids,grade_sheet,answers,correct_answer_key[2])\n",
    "    print(f'\\n{grade_sheet.loc[grade_sheet.ID == student_ids[0]]}')\n",
    "else:   \n",
    "    BitGrading.grade_question('Q3',student_ids,grade_sheet,answers,correct_answer[2])\n",
    "    grade_sheet.loc[grade_sheet.ID == student_ids[0]]\n",
    "                  \n"
   ]
  },
  {
   "cell_type": "markdown",
   "metadata": {},
   "source": [
    "## Question 4 - Grading"
   ]
  },
  {
   "cell_type": "markdown",
   "metadata": {},
   "source": [
    "### Option 1\n",
    "```\n",
    "question_number = assignment_list[3]\n",
    "%load $question_number\n",
    "\n",
    "```\n",
    "\n",
    "### Option 2\n",
    "```\n",
    "run 4.py\n",
    "```\n",
    "\n"
   ]
  },
  {
   "cell_type": "code",
   "execution_count": null,
   "metadata": {},
   "outputs": [],
   "source": [
    "%run 4.py"
   ]
  },
  {
   "cell_type": "markdown",
   "metadata": {},
   "source": [
    "### Q4 - Test Cases"
   ]
  },
  {
   "cell_type": "code",
   "execution_count": null,
   "metadata": {},
   "outputs": [],
   "source": [
    "answers = [answer1,answer2,answer3,answer4]\n",
    "#correct_answer = ['hello','hello','hello','hello']\n",
    "if manual == 'N':\n",
    "    correct_answer_key,question = BitGrading.mannual_answer_key(4)\n",
    "    print(f'\\n The correct answer key for {question} is {correct_answer_key}')\n",
    "    BitGrading.grade_question('Q4',student_ids,grade_sheet,answers,correct_answer_key[3])\n",
    "    print(f'\\n{grade_sheet.loc[grade_sheet.ID == student_ids[0]]}')\n",
    "else:   \n",
    "    BitGrading.grade_question('Q4',student_ids,grade_sheet,answers,correct_answer[3])\n",
    "    grade_sheet.loc[grade_sheet.ID == student_ids[0]]"
   ]
  },
  {
   "cell_type": "markdown",
   "metadata": {},
   "source": [
    "## Question 5 - Grading"
   ]
  },
  {
   "cell_type": "markdown",
   "metadata": {},
   "source": [
    "### Option 1\n",
    "```\n",
    "question_number = assignment_list[4]\n",
    "%load $question_number\n",
    "```\n",
    "\n",
    "### Option 2\n",
    "\n",
    "```\n",
    "%run 5.py\n",
    "```"
   ]
  },
  {
   "cell_type": "code",
   "execution_count": null,
   "metadata": {},
   "outputs": [],
   "source": [
    "%run 5.py"
   ]
  },
  {
   "cell_type": "markdown",
   "metadata": {},
   "source": [
    "### Q5 - Test Cases"
   ]
  },
  {
   "cell_type": "code",
   "execution_count": null,
   "metadata": {},
   "outputs": [],
   "source": [
    "answers = [answer]\n",
    "#correct_answer = ['hello','hello','hello','hello']\n",
    "if manual == 'N':\n",
    "    correct_answer_key,question = BitGrading.mannual_answer_key(5)\n",
    "    print(f'\\n The correct answer key for {question} is {correct_answer_key}')\n",
    "    BitGrading.grade_question('Q5',student_ids,grade_sheet,answers,correct_answer_key[4])\n",
    "    print(f'\\n{grade_sheet.loc[grade_sheet.ID == student_ids[0]]}')\n",
    "else:   \n",
    "    BitGrading.grade_question('Q5',student_ids,grade_sheet,answers,correct_answer[4])\n",
    "    grade_sheet.loc[grade_sheet.ID == student_ids[0]]"
   ]
  },
  {
   "cell_type": "markdown",
   "metadata": {},
   "source": [
    "### Question 6 - Grading"
   ]
  },
  {
   "cell_type": "markdown",
   "metadata": {},
   "source": [
    "### Option 1\n",
    "```\n",
    "question_number = assignment_list[5]\n",
    "%load $question_number\n",
    "```\n",
    "\n",
    "### Option 2\n",
    "\n",
    "```\n",
    "%run 6.py\n",
    "```"
   ]
  },
  {
   "cell_type": "code",
   "execution_count": null,
   "metadata": {},
   "outputs": [],
   "source": [
    "%run 6.py"
   ]
  },
  {
   "cell_type": "markdown",
   "metadata": {},
   "source": [
    "### Q6 - Test Cases"
   ]
  },
  {
   "cell_type": "code",
   "execution_count": null,
   "metadata": {},
   "outputs": [],
   "source": [
    "grade_sheet.loc[grade_sheet.ID == student_ids[0],'Q6'] = 1"
   ]
  },
  {
   "cell_type": "code",
   "execution_count": null,
   "metadata": {},
   "outputs": [],
   "source": [
    "grade_sheet.loc[grade_sheet.ID == student_ids[0]]"
   ]
  },
  {
   "cell_type": "markdown",
   "metadata": {},
   "source": [
    "## Step 3 - Move Graded Student to Assignment Graded Folder"
   ]
  },
  {
   "cell_type": "markdown",
   "metadata": {
    "colab_type": "text",
    "id": "mB0tveYiFgiJ"
   },
   "source": [
    "When you want to go to the next student. Simply run the command below"
   ]
  },
  {
   "cell_type": "code",
   "execution_count": null,
   "metadata": {},
   "outputs": [],
   "source": [
    "GRADED_FOLDER = 'Assignments_Graded'\n",
    "out = BitGrading.move_graded_student(GRADED_FOLDER,student_ids)"
   ]
  },
  {
   "cell_type": "markdown",
   "metadata": {},
   "source": [
    "If You recieve the response 'You are Done Grading!', jump to step 5, otherwise move to step4"
   ]
  },
  {
   "cell_type": "markdown",
   "metadata": {
    "colab": {},
    "colab_type": "code",
    "id": "85v0ZxckNnBP"
   },
   "source": [
    "## Step 4 - Go Back to Step 2"
   ]
  },
  {
   "cell_type": "markdown",
   "metadata": {},
   "source": [
    "## Step 5 - Save Gradesheet to csv"
   ]
  },
  {
   "cell_type": "code",
   "execution_count": null,
   "metadata": {},
   "outputs": [],
   "source": [
    "Week2_grade_sheet['Total_Score'] = Week2_grade_sheet.iloc[:, 1:].sum(axis=1)"
   ]
  },
  {
   "cell_type": "code",
   "execution_count": null,
   "metadata": {},
   "outputs": [],
   "source": [
    "export_file_path = 'Week_2_Grades'\n",
    "Week2_grade_sheet.to_csv (export_file_path, index = False, header=True)"
   ]
  }
 ],
 "metadata": {
  "colab": {
   "collapsed_sections": [],
   "name": "Grading_Protocol.ipynb",
   "provenance": [],
   "toc_visible": true
  },
  "kernelspec": {
   "display_name": "Python 3",
   "language": "python",
   "name": "python3"
  },
  "language_info": {
   "codemirror_mode": {
    "name": "ipython",
    "version": 3
   },
   "file_extension": ".py",
   "mimetype": "text/x-python",
   "name": "python",
   "nbconvert_exporter": "python",
   "pygments_lexer": "ipython3",
   "version": "3.8.5"
  }
 },
 "nbformat": 4,
 "nbformat_minor": 1
}
