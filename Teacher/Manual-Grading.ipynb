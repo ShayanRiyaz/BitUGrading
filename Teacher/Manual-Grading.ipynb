{
 "cells": [
  {
   "cell_type": "markdown",
   "metadata": {
    "colab_type": "text",
    "id": "0gzHwU-XJfom"
   },
   "source": [
    "\n",
    "\n",
    "# Method \n",
    "This involves grading the students answers\n",
    "For this format we will be following the directory struture, Before Begining the programing please make sure you have the following structure. \n",
    "```\n",
    ".\n",
    "├── DigitalHistory\n",
    "│   ├──Assignments_To_Be_Graded\n",
    "│       ├── Student_id\n",
    "│          └── Week_Two\n",
    "│              └── NowTryThis\n",
    "│                  └── One.py\n",
    "│                  └── Two.py\n",
    "│                  └── ....\n",
    "│                  └── n.py\n",
    "│              └── Homework\n",
    "│                  └── One.py\n",
    "│                  └── Two.py\n",
    "│                  └── ....\n",
    "│                  └── n.py\n",
    "│              └── Week_Three\n",
    "│                  └── NowTryThis\n",
    "│                  └── One.py\n",
    "│                  └── ...\n",
    "│              └── Homework\n",
    "│                  └── One.py\n",
    "│                  └── ....\n",
    "│   ├──Assignments_Graded\n",
    "``` "
   ]
  },
  {
   "cell_type": "code",
   "execution_count": 1,
   "metadata": {},
   "outputs": [],
   "source": [
    "import BitGrading\n",
    "import pandas as pd\n",
    "import numpy as np\n",
    "import os\n",
    "import ast \n",
    "import shutil\n",
    "import subprocess\n",
    "from termcolor import colored\n",
    "\n",
    "initialize = False\n",
    "DIRECTORY = 'DigitalHistory/Assignments_To_Be_Graded'"
   ]
  },
  {
   "cell_type": "markdown",
   "metadata": {
    "colab_type": "text",
    "id": "inZtT6OwTYX3"
   },
   "source": [
    "\n",
    "## Step 1 : Initialization - Repeat only once."
   ]
  },
  {
   "cell_type": "code",
   "execution_count": 2,
   "metadata": {
    "cellView": "both",
    "colab": {
     "base_uri": "https://localhost:8080/",
     "height": 34
    },
    "colab_type": "code",
    "id": "feFFTnAv9373",
    "outputId": "eb7e7f86-f2d8-4c40-f135-8009716048c3"
   },
   "outputs": [
    {
     "name": "stdout",
     "output_type": "stream",
     "text": [
      "These are all the student Id's in our Directory : \u001b[31m['123456789', '016993270']\u001b[0m\n",
      "\n",
      "These are the Weeks inside \u001b[31m123456789\u001b[0m: \u001b[34m['Week_Two']\u001b[0m\n",
      "Enter the name of the folder you want to grade: Week_Two\n",
      "\n",
      "These are the Assignment Types inside 123456789: \u001b[32m['Now_Try_This']\u001b[0m\n",
      "Enter the name of the assignment type you want to grade: Now_Try_This\n",
      "Input the number of questions in this assignment: 6\n",
      "Initializaing the Points Tally for the Students\n",
      "This is your grade sheet with all the Student Ids\n",
      "          ID   Q1   Q2   Q3   Q4   Q5   Q6\n",
      "0  123456789  0.0  0.0  0.0  0.0  0.0  0.0\n",
      "1  016993270  0.0  0.0  0.0  0.0  0.0  0.0\n",
      " Would you like to set up the Correct Answers for the Questions right now\n",
      " or would you prefer setting them up manually?\n",
      " Pleae answer with Y or N respectively [Y/N]: N\n",
      " You will be manually entering the answers below for each question\n"
     ]
    }
   ],
   "source": [
    "student_ids = BitGrading.get_student_ids(DIRECTORY,change_dir=False)\n",
    "total_num_of_students = len(student_ids)\n",
    "print(f\"These are all the student Id's in our Directory : {colored(student_ids,'red')}\\n\")\n",
    "print(f\"These are the Weeks inside {colored(student_ids[0],'red')}: {colored(os.listdir(f'DigitalHistory/Assignments_To_Be_Graded/{student_ids[0]}'),'blue')}\")\n",
    "WEEK_NUM = input('Enter the name of the folder you want to grade: ')\n",
    "print(f\"\\nThese are the Assignment Types inside {student_ids[0]}: {colored(os.listdir(f'DigitalHistory/Assignments_To_Be_Graded/{student_ids[0]}/{WEEK_NUM}'),'green')}\")\n",
    "ASSIGNMENT_TYPE = input('Enter the name of the assignment type you want to grade: ')\n",
    "\n",
    "Grading_Sheet,num_questions = BitGrading.make_grade_sheet(student_ids)\n",
    "while not initialize:\n",
    "    correct_answer,manual = BitGrading.make_answer_key(num_questions)\n",
    "    initialize = True\n",
    "if manual == 'Y':\n",
    "    correct_answer\n"
   ]
  },
  {
   "cell_type": "markdown",
   "metadata": {},
   "source": [
    "## Step 2 - Grade Students"
   ]
  },
  {
   "cell_type": "code",
   "execution_count": 4,
   "metadata": {
    "cellView": "both",
    "colab": {
     "base_uri": "https://localhost:8080/",
     "height": 118
    },
    "colab_type": "code",
    "id": "NOBeFmwD2Exn",
    "outputId": "3abfa147-3708-4cbd-d376-48d6028b8128"
   },
   "outputs": [
    {
     "name": "stdout",
     "output_type": "stream",
     "text": [
      "You are in the Week_Two Directory\n",
      "\n",
      "These are all the .py files inside the folder: \n",
      "\n",
      "2.py\n",
      "6.py\n",
      "5.py\n",
      "1.py\n",
      "4.py\n",
      "3.py\n",
      "Currently Grading \u001b[31m123456789\u001b[0m  ->  \u001b[34mWeek_Two\u001b[0m  - >  \u001b[32mNow_Try_This\u001b[0m  Section.\n"
     ]
    }
   ],
   "source": [
    "student_ids = BitGrading.get_student_ids(DIRECTORY,change_dir=True)\n",
    "week_path = BitGrading.week(student_ids[0],WEEK_NUM)\n",
    "file_path = BitGrading.homework_or_NTT(week_path,ASSIGNMENT_TYPE)\n",
    "\n",
    "assignment_list = BitGrading.get_python_list(file_path)\n",
    "print('Currently Grading', colored(student_ids[0],'red'),' -> ',colored(WEEK_NUM,'blue'),' - > ',colored(ASSIGNMENT_TYPE,'green'),' Section.')\n",
    "os.chdir(file_path)"
   ]
  },
  {
   "cell_type": "markdown",
   "metadata": {},
   "source": [
    "## Question 1 Grading\n",
    "### Option 1\n",
    "```\n",
    "question_number = assignment_list[0]\n",
    "%load $question_number\n",
    "```\n",
    "### Option 2\n",
    "```\n",
    "%run 1.py\n",
    "```"
   ]
  },
  {
   "cell_type": "code",
   "execution_count": null,
   "metadata": {
    "colab": {},
    "colab_type": "code",
    "id": "SzTTt5wiToUL"
   },
   "outputs": [],
   "source": [
    "%load 1.py"
   ]
  },
  {
   "cell_type": "markdown",
   "metadata": {},
   "source": [
    "### Q1 - Test Cases"
   ]
  },
  {
   "cell_type": "code",
   "execution_count": null,
   "metadata": {},
   "outputs": [],
   "source": [
    "student_answers = [answer1,answer2,answer3]\n",
    "\n",
    "if len(student_ids) == total_num_of_students:\n",
    "    correct_answer_key,question = BitGrading.mannual_answer_key(1)\n",
    "\n",
    "BitGrading.manual_grade_question(1,correct_answer_key[0],Grading_Sheet,student_ids,student_answers = student_answers)\n"
   ]
  },
  {
   "cell_type": "markdown",
   "metadata": {},
   "source": [
    "## Question 2 Grading\n",
    "### Option 1\n",
    "```\n",
    "question_number = assignment_list[1]\n",
    "%load $question_number\n",
    "```\n",
    "### Option 2\n",
    "```\n",
    "%run 2.py\n",
    "```"
   ]
  },
  {
   "cell_type": "code",
   "execution_count": null,
   "metadata": {
    "colab": {},
    "colab_type": "code",
    "id": "4LOMbzfXFdfU"
   },
   "outputs": [],
   "source": [
    "%load 2.py"
   ]
  },
  {
   "cell_type": "markdown",
   "metadata": {},
   "source": [
    "### Q2 - Test Cases"
   ]
  },
  {
   "cell_type": "code",
   "execution_count": null,
   "metadata": {},
   "outputs": [],
   "source": [
    "student_answers = [answer1,list3,answer2]\n",
    "if len(student_ids) == total_num_of_students:\n",
    "    correct_answer_key,question = BitGrading.mannual_answer_key(2,correct_answer_key)\n",
    "\n",
    "BitGrading.manual_grade_question(2,correct_answer_key[1],Grading_Sheet,student_ids,student_answers = student_answers)"
   ]
  },
  {
   "cell_type": "markdown",
   "metadata": {},
   "source": [
    "## Question 3 - Grading\n",
    "### Option 1\n",
    "```\n",
    "question_number = assignment_list[2]\n",
    "%load $question_number\n",
    "```\n",
    "\n",
    "### Option 2\n",
    "```\n",
    "%run 3.py\n",
    "```"
   ]
  },
  {
   "cell_type": "code",
   "execution_count": null,
   "metadata": {},
   "outputs": [],
   "source": [
    "%load 3.py"
   ]
  },
  {
   "cell_type": "markdown",
   "metadata": {},
   "source": [
    "### Q3 - Test Cases"
   ]
  },
  {
   "cell_type": "code",
   "execution_count": null,
   "metadata": {},
   "outputs": [],
   "source": [
    "student_answers = [t]\n",
    "#correct_answer = [(1,2,3)]\n",
    "if len(student_ids) == total_num_of_students:\n",
    "    correct_answer_key,question = BitGrading.mannual_answer_key(3,correct_answer_key)\n",
    "\n",
    "BitGrading.manual_grade_question(3,correct_answer_key[2],Grading_Sheet,student_ids,student_answers = student_answers)\n",
    "                  \n"
   ]
  },
  {
   "cell_type": "markdown",
   "metadata": {},
   "source": [
    "## Question 4 - Grading"
   ]
  },
  {
   "cell_type": "markdown",
   "metadata": {},
   "source": [
    "### Option 1\n",
    "```\n",
    "question_number = assignment_list[3]\n",
    "%load $question_number\n",
    "\n",
    "```\n",
    "\n",
    "### Option 2\n",
    "```\n",
    "run 4.py\n",
    "```\n",
    "\n"
   ]
  },
  {
   "cell_type": "code",
   "execution_count": null,
   "metadata": {},
   "outputs": [],
   "source": [
    "%load 4.py"
   ]
  },
  {
   "cell_type": "markdown",
   "metadata": {},
   "source": [
    "### Q4 - Test Cases"
   ]
  },
  {
   "cell_type": "code",
   "execution_count": null,
   "metadata": {},
   "outputs": [],
   "source": [
    "student_answers = [answer1,answer2,answer3,answer4]\n",
    "#correct_answer = ['hello','hello','hello','hello']\n",
    "\n",
    "if len(student_ids) == total_num_of_students:\n",
    "    correct_answer_key,question = BitGrading.mannual_answer_key(4,correct_answer_key)\n",
    "\n",
    "BitGrading.manual_grade_question(4,correct_answer_key[3],Grading_Sheet,student_ids,student_answers = student_answers)"
   ]
  },
  {
   "cell_type": "markdown",
   "metadata": {},
   "source": [
    "## Question 5 - Grading"
   ]
  },
  {
   "cell_type": "markdown",
   "metadata": {},
   "source": [
    "### Option 1\n",
    "```\n",
    "question_number = assignment_list[4]\n",
    "%load $question_number\n",
    "```\n",
    "\n",
    "### Option 2\n",
    "\n",
    "```\n",
    "%run 5.py\n",
    "```"
   ]
  },
  {
   "cell_type": "code",
   "execution_count": null,
   "metadata": {},
   "outputs": [],
   "source": [
    "%load 5.py"
   ]
  },
  {
   "cell_type": "markdown",
   "metadata": {},
   "source": [
    "### Q5 - Test Cases"
   ]
  },
  {
   "cell_type": "code",
   "execution_count": null,
   "metadata": {},
   "outputs": [],
   "source": [
    "student_answers = [answer]\n",
    "#correct_answer = ['hello','hello','hello','hello']\n",
    "\n",
    "if len(student_ids) == total_num_of_students:\n",
    "    correct_answer_key,question = BitGrading.mannual_answer_key(5,correct_answer_key)\n",
    "\n",
    "BitGrading.manual_grade_question(5,correct_answer_key[4],Grading_Sheet,student_ids,student_answers = student_answers)"
   ]
  },
  {
   "cell_type": "markdown",
   "metadata": {},
   "source": [
    "### Question 6 - Grading"
   ]
  },
  {
   "cell_type": "markdown",
   "metadata": {},
   "source": [
    "### Option 1\n",
    "```\n",
    "question_number = assignment_list[5]\n",
    "%load $question_number\n",
    "```\n",
    "\n",
    "### Option 2\n",
    "\n",
    "```\n",
    "%run 6.py\n",
    "```"
   ]
  },
  {
   "cell_type": "code",
   "execution_count": null,
   "metadata": {},
   "outputs": [],
   "source": [
    "%load 6.py"
   ]
  },
  {
   "cell_type": "markdown",
   "metadata": {},
   "source": [
    "### Q6 - Test Cases"
   ]
  },
  {
   "cell_type": "code",
   "execution_count": null,
   "metadata": {},
   "outputs": [],
   "source": [
    "Grading_Sheet.loc[Grading_Sheet.ID == student_ids[0],f'Q{6}'] = 1"
   ]
  },
  {
   "cell_type": "code",
   "execution_count": null,
   "metadata": {},
   "outputs": [],
   "source": [
    "Grading_Sheet.loc[Grading_Sheet.ID == student_ids[0]]"
   ]
  },
  {
   "cell_type": "markdown",
   "metadata": {},
   "source": [
    "## Step 3 - Move Graded Student to Assignment Graded Folder"
   ]
  },
  {
   "cell_type": "markdown",
   "metadata": {
    "colab_type": "text",
    "id": "mB0tveYiFgiJ"
   },
   "source": [
    "When you want to go to the next student. Simply run the command below"
   ]
  },
  {
   "cell_type": "code",
   "execution_count": null,
   "metadata": {},
   "outputs": [],
   "source": [
    "GRADED_FOLDER = 'Assignments_Graded'\n",
    "out = BitGrading.move_graded_student(GRADED_FOLDER,student_ids)"
   ]
  },
  {
   "cell_type": "markdown",
   "metadata": {},
   "source": [
    "If You recieve the response 'You are Done Grading!', jump to step 5, otherwise move to step4"
   ]
  },
  {
   "cell_type": "markdown",
   "metadata": {
    "colab": {},
    "colab_type": "code",
    "id": "85v0ZxckNnBP"
   },
   "source": [
    "## Step 4 - Go Back to Step 2"
   ]
  },
  {
   "cell_type": "markdown",
   "metadata": {},
   "source": [
    "## Step 5 - Save Gradesheet to csv"
   ]
  },
  {
   "cell_type": "code",
   "execution_count": null,
   "metadata": {},
   "outputs": [],
   "source": [
    "Week2_grade_sheet['Total_Score'] = Week2_grade_sheet.iloc[:, 1:].sum(axis=1)"
   ]
  },
  {
   "cell_type": "code",
   "execution_count": null,
   "metadata": {},
   "outputs": [],
   "source": [
    "export_file_path = 'Week_2_Grades'\n",
    "Week2_grade_sheet.to_csv (export_file_path, index = False, header=True)"
   ]
  }
 ],
 "metadata": {
  "colab": {
   "collapsed_sections": [],
   "name": "Grading_Protocol.ipynb",
   "provenance": [],
   "toc_visible": true
  },
  "kernelspec": {
   "display_name": "Python 3",
   "language": "python",
   "name": "python3"
  },
  "language_info": {
   "codemirror_mode": {
    "name": "ipython",
    "version": 3
   },
   "file_extension": ".py",
   "mimetype": "text/x-python",
   "name": "python",
   "nbconvert_exporter": "python",
   "pygments_lexer": "ipython3",
   "version": "3.8.0"
  }
 },
 "nbformat": 4,
 "nbformat_minor": 1
}
