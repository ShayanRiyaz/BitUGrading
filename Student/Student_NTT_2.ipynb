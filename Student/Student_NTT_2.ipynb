{
 "cells": [
  {
   "cell_type": "code",
   "execution_count": 1,
   "metadata": {
    "colab": {},
    "colab_type": "code",
    "id": "9znSafIzmDPn"
   },
   "outputs": [
    {
     "name": "stdout",
     "output_type": "stream",
     "text": [
      "Please Enter your Student ID: 016993273\n",
      "Successfully Created Directory, Lets get started\n"
     ]
    }
   ],
   "source": [
    "import os\n",
    "import shutil\n",
    "\n",
    "#rm -rf sample_data\n",
    "\n",
    "student_id = input('Please Enter your Student ID: ') # Enter Student ID.\n",
    "\n",
    "while len(student_id) != 9:\n",
    " student_id = int('Please Enter your Student ID: ')  \n",
    "  \n",
    "folder_location = f'{student_id}/Week_Two/Now_Try_This' # Assume Week is Two\n",
    "if not os.path.exists(folder_location):\n",
    "  os.makedirs(folder_location)\n",
    "  print('Successfully Created Directory, Lets get started')\n",
    "else:\n",
    "  print('Directory Already Exists')"
   ]
  },
  {
   "cell_type": "markdown",
   "metadata": {
    "colab_type": "text",
    "id": "x90qHJh7DzpF"
   },
   "source": [
    "### 1.0 Now Try This\n",
    "\n",
    "\n",
    "Once your have verified your answer please uncomment the line below and run it, this will save your code "
   ]
  },
  {
   "cell_type": "code",
   "execution_count": 5,
   "metadata": {
    "colab": {},
    "colab_type": "code",
    "id": "yNnTv2P2FNty"
   },
   "outputs": [
    {
     "name": "stdout",
     "output_type": "stream",
     "text": [
      "Writing 016993273/Week_Two/Now_Try_This/1.py\n"
     ]
    }
   ],
   "source": [
    "%%writefile --a {folder_location}/1.py\n",
    "\n",
    "# Once your have verified your answer please uncomment the line above and run it, this will save your code \n",
    "# Please note that if you uncomment and press multiple times, the program will keep appending to the file.\n",
    "\n",
    "s = 'Amsterdam'\n",
    "# Print out 'e' using indexing\n",
    "answer1 = s[4]\n",
    "print(answer1)\n"
   ]
  },
  {
   "cell_type": "code",
   "execution_count": 6,
   "metadata": {
    "colab": {},
    "colab_type": "code",
    "id": "BdNWsi6rFNt3"
   },
   "outputs": [
    {
     "name": "stdout",
     "output_type": "stream",
     "text": [
      "Appending to 016993273/Week_Two/Now_Try_This/1.py\n"
     ]
    }
   ],
   "source": [
    "%%writefile -a {folder_location}/1.py\n",
    "\n",
    "# Once your have verified your answer please uncomment the line above and run it, this will save your code \n",
    "# Please note that if you uncomment and press multiple times, the program will keep appending to the file.\n",
    "\n",
    "s ='Amsterdam'\n",
    "# Reverse the string using slicing\n",
    "answer2 = s[::-1]\n",
    "print(answer2)\n"
   ]
  },
  {
   "cell_type": "code",
   "execution_count": 7,
   "metadata": {
    "colab": {},
    "colab_type": "code",
    "id": "6_3_Xa4JFNt6"
   },
   "outputs": [
    {
     "name": "stdout",
     "output_type": "stream",
     "text": [
      "Appending to 016993273/Week_Two/Now_Try_This/1.py\n"
     ]
    }
   ],
   "source": [
    "%%writefile -a {folder_location}/1.py\n",
    "# Once your have verified your answer please uncomment the line above and run it, this will save your code \n",
    "# Please note that if you uncomment and press multiple times, the program will keep appending to the file.\n",
    "\n",
    "s ='Amsterdam'\n",
    "# Print out the 'm'\n",
    "\n",
    "# Method 1:\n",
    "answer3 = s[8]\n",
    "print(answer3)\n"
   ]
  },
  {
   "cell_type": "code",
   "execution_count": 8,
   "metadata": {
    "colab": {},
    "colab_type": "code",
    "id": "PcZgTEG6FNt8"
   },
   "outputs": [
    {
     "name": "stdout",
     "output_type": "stream",
     "text": [
      "Appending to 016993273/Week_Two/Now_Try_This/1.py\n"
     ]
    }
   ],
   "source": [
    "%%writefile -a {folder_location}/1.py\n",
    "\n",
    "# Once your have verified your answer please uncomment the line above and run it, this will save your code \n",
    "# Please note that if you uncomment and press multiple times, the program will keep appending to the file.\n",
    "\n",
    "# make a list of the squares the first 10 numbers.\n",
    "\n",
    "answer4 = [i**2 for i in range(0,10)]\n",
    "print(answer4)\n"
   ]
  },
  {
   "cell_type": "markdown",
   "metadata": {
    "colab_type": "text",
    "id": "jlS7xu6QFvqJ"
   },
   "source": [
    "### 2.0 Now Try This"
   ]
  },
  {
   "cell_type": "code",
   "execution_count": 9,
   "metadata": {
    "colab": {},
    "colab_type": "code",
    "id": "MqlviiGkEQt9"
   },
   "outputs": [
    {
     "name": "stdout",
     "output_type": "stream",
     "text": [
      "Writing 016993273/Week_Two/Now_Try_This/2.py\n"
     ]
    }
   ],
   "source": [
    "%%writefile -a {folder_location}/2.py\n",
    "\n",
    "# Once your have verified your answer please uncomment the line above and run it, this will save your code \n",
    "# Please note that if you uncomment and press multiple times, the program will keep appending to the file.\n",
    "\n",
    "# Method 1:\n",
    "answer1 = [0]*3\n",
    "print(answer1)"
   ]
  },
  {
   "cell_type": "code",
   "execution_count": 10,
   "metadata": {
    "colab": {},
    "colab_type": "code",
    "id": "BuT0NampEQuE"
   },
   "outputs": [
    {
     "name": "stdout",
     "output_type": "stream",
     "text": [
      "Appending to 016993273/Week_Two/Now_Try_This/2.py\n"
     ]
    }
   ],
   "source": [
    "%%writefile -a {folder_location}/2.py\n",
    "\n",
    "# Once your have verified your answer please uncomment the line above and run it, this will save your code \n",
    "# Please note that if you uncomment and press multiple times, the program will keep appending to the file.\n",
    "\n",
    "answer2 = [1,2,[3,4,'hello']]\n",
    "\n",
    "answer2[2][2] = 'goodbye'\n",
    "print(answer2)"
   ]
  },
  {
   "cell_type": "code",
   "execution_count": 11,
   "metadata": {
    "colab": {},
    "colab_type": "code",
    "id": "6q5UooRzEQuS"
   },
   "outputs": [
    {
     "name": "stdout",
     "output_type": "stream",
     "text": [
      "Appending to 016993273/Week_Two/Now_Try_This/2.py\n"
     ]
    }
   ],
   "source": [
    "%%writefile -a {folder_location}/2.py\n",
    "\n",
    "# Once your have verified your answer please uncomment the line above and run it, this will save your code \n",
    "# Please note that if you uncomment and press multiple times, the program will keep appending to the file.\n",
    "\n",
    "answer3 = [5,3,4,6,1]\n",
    "\n",
    "# Method 1:\n",
    "answer3 = sorted(list4)\n",
    "print(answer3)"
   ]
  },
  {
   "cell_type": "code",
   "execution_count": 12,
   "metadata": {},
   "outputs": [
    {
     "name": "stdout",
     "output_type": "stream",
     "text": [
      "Appending to 016993273/Week_Two/Now_Try_This/2.py\n"
     ]
    }
   ],
   "source": [
    "%%writefile -a {folder_location}/2.py\n",
    "\n",
    "# Once your have verified your answer please uncomment the line above and run it, this will save your code \n",
    "# Please note that if you uncomment and press multiple times, the program will keep appending to the file.\n",
    "\n",
    "# Sort in descending\n",
    "list4 = [5,3,4,6,1]\n",
    "\n",
    "# Method 1:\n",
    "answer4 = sorted(list4,reverse=True)\n",
    "print(answer4)"
   ]
  },
  {
   "cell_type": "markdown",
   "metadata": {
    "colab_type": "text",
    "id": "GavPLpw0GjP_"
   },
   "source": [
    "### 3.0 Now Try This"
   ]
  },
  {
   "cell_type": "markdown",
   "metadata": {
    "colab_type": "text",
    "id": "m-cC_aPgEQut"
   },
   "source": [
    "**Tuples are immutable!**"
   ]
  },
  {
   "cell_type": "code",
   "execution_count": 13,
   "metadata": {
    "colab": {
     "base_uri": "https://localhost:8080/",
     "height": 35
    },
    "colab_type": "code",
    "id": "ojk-1uzGEQuu",
    "outputId": "444a2261-6046-4575-ddeb-c5b824f158b7"
   },
   "outputs": [
    {
     "name": "stdout",
     "output_type": "stream",
     "text": [
      "Writing 016993273/Week_Two/Now_Try_This/3.py\n"
     ]
    }
   ],
   "source": [
    "%%writefile -a {folder_location}/3.py\n",
    "\n",
    "# Once your have verified your answer please uncomment the line above and run it, this will save your code \n",
    "# Please note that if you uncomment and press multiple times, the program will keep appending to the file.\n",
    "\n",
    "t = (1,2,3) # An example\n",
    "print(type(t))"
   ]
  },
  {
   "cell_type": "markdown",
   "metadata": {
    "colab_type": "text",
    "id": "jljY3mE2G-oX"
   },
   "source": [
    "### 4.0 Now Try This\n"
   ]
  },
  {
   "cell_type": "code",
   "execution_count": 14,
   "metadata": {
    "colab": {},
    "colab_type": "code",
    "id": "N6cguzY4EQuY"
   },
   "outputs": [
    {
     "name": "stdout",
     "output_type": "stream",
     "text": [
      "Writing 016993273/Week_Two/Now_Try_This/4.py\n"
     ]
    }
   ],
   "source": [
    "%%writefile -a {folder_location}/4.py\n",
    "\n",
    "# Once your have verified your answer please uncomment the line above and run it, this will save your code \n",
    "# Please note that if you uncomment and press multiple times, the program will keep appending to the file.\n",
    "\n",
    "d = {'simple_key':'hello'}\n",
    "\n",
    "answer = d['simple_key']\n",
    "print(answer)"
   ]
  },
  {
   "cell_type": "code",
   "execution_count": 15,
   "metadata": {
    "colab": {},
    "colab_type": "code",
    "id": "b_zRlNFbEQua"
   },
   "outputs": [
    {
     "name": "stdout",
     "output_type": "stream",
     "text": [
      "Appending to 016993273/Week_Two/Now_Try_This/4.py\n"
     ]
    }
   ],
   "source": [
    "%%writefile -a {folder_location}/4.py\n",
    "\n",
    "# Once your have verified your answer please uncomment the line above and run it, this will save your code \n",
    "# Please note that if you uncomment and press multiple times, the program will keep appending to the file.\n",
    "\n",
    "d = {'k1':{'k2':'hello'}}\n",
    "\n",
    "answer2 = d['k1']['k2']\n",
    "print(answer2)"
   ]
  },
  {
   "cell_type": "code",
   "execution_count": 16,
   "metadata": {
    "colab": {},
    "colab_type": "code",
    "id": "1WB_raEmEQuf"
   },
   "outputs": [
    {
     "name": "stdout",
     "output_type": "stream",
     "text": [
      "Appending to 016993273/Week_Two/Now_Try_This/4.py\n"
     ]
    }
   ],
   "source": [
    "%%writefile -a {folder_location}/4.py\n",
    "\n",
    "# Once your have verified your answer please uncomment the line above and run it, this will save your code \n",
    "# Please note that if you uncomment and press multiple times, the program will keep appending to the file.\n",
    "\n",
    "d = {'k1':[{'nest_key':['this is deep',['hello']]}]}\n",
    "\n",
    "answer3 = d['k1'][0]['nest_key'][1][0]\n",
    "print(answer3)"
   ]
  },
  {
   "cell_type": "code",
   "execution_count": 14,
   "metadata": {
    "colab": {},
    "colab_type": "code",
    "id": "w4MrHkNKEQum"
   },
   "outputs": [
    {
     "name": "stdout",
     "output_type": "stream",
     "text": [
      "Appending to 016993273/Week_Two/Now_Try_This/4.py\n"
     ]
    }
   ],
   "source": [
    "#%%writefile -a {folder_location}/4.py\n",
    "# Once your have verified your answer please uncomment the line above and run it, this will save your code \n",
    "# Please note that if you uncomment and press multiple times, the program will keep appending to the file.\n",
    "\n",
    "d = {'k1':[1,2,{'k2':['this is tricky',{'tough':[1,2,['hello']]}]}]}\n",
    "\n",
    "answer4 = d['k1'][2]['k2'][1]['tough'][2][0]\n",
    "print(answer4)"
   ]
  },
  {
   "cell_type": "markdown",
   "metadata": {
    "colab_type": "text",
    "id": "uLX9YMnXEQur"
   },
   "source": [
    "No! Because normal dictionaries are *mappings* not a sequence."
   ]
  },
  {
   "cell_type": "markdown",
   "metadata": {
    "colab_type": "text",
    "id": "K5hLnLVZJXXv"
   },
   "source": [
    "### 5.0 Now Try This\n"
   ]
  },
  {
   "cell_type": "code",
   "execution_count": 15,
   "metadata": {
    "colab": {},
    "colab_type": "code",
    "id": "6L-HJNeMKM3y"
   },
   "outputs": [
    {
     "name": "stdout",
     "output_type": "stream",
     "text": [
      "Writing 016993273/Week_Two/Now_Try_This/5.py\n"
     ]
    }
   ],
   "source": [
    "#%%writefile -a {folder_location}/5.py\n",
    "\n",
    "# Once your have verified your answer please uncomment the line above and run it, this will save your code \n",
    "# Please note that if you uncomment and press multiple times, the program will keep appending to the file.\n",
    "\n",
    "def cap_four(name):\n",
    "    new_name = name[0].upper() + name[1:3] + name[3].upper() + name[4:]\n",
    "    return new_name\n",
    "\n",
    "# Check\n",
    "answer = cap_four('macdonald')\n",
    "print(answer)"
   ]
  },
  {
   "cell_type": "markdown",
   "metadata": {
    "colab_type": "text",
    "id": "vaBOcf3wKmnq"
   },
   "source": [
    "### 6.0 Now Try This"
   ]
  },
  {
   "cell_type": "code",
   "execution_count": 16,
   "metadata": {
    "colab": {},
    "colab_type": "code",
    "id": "d__CdNmYKcr_"
   },
   "outputs": [
    {
     "name": "stdout",
     "output_type": "stream",
     "text": [
      "Writing 016993273/Week_Two/Now_Try_This/6.py\n"
     ]
    }
   ],
   "source": [
    "#%%writefile -a {folder_location}/6.py\n",
    "\n",
    "# Once your have verified your answer please uncomment the line above and run it, this will save your code \n",
    "# Please note that if you uncomment and press multiple times, the program will keep appending to the file.\n",
    "\n",
    "x = 5\n",
    "y = 0\n",
    "try:\n",
    "    z = x/y\n",
    "except ZeroDivisionError:\n",
    "    print(\"Can't divide by Zero!\")\n",
    "finally:\n",
    "    print('All Done!')"
   ]
  },
  {
   "cell_type": "code",
   "execution_count": null,
   "metadata": {},
   "outputs": [],
   "source": []
  }
 ],
 "metadata": {
  "colab": {
   "name": "Week 2 NTT.ipynb",
   "provenance": []
  },
  "kernelspec": {
   "display_name": "Python 3",
   "language": "python",
   "name": "python3"
  },
  "language_info": {
   "codemirror_mode": {
    "name": "ipython",
    "version": 3
   },
   "file_extension": ".py",
   "mimetype": "text/x-python",
   "name": "python",
   "nbconvert_exporter": "python",
   "pygments_lexer": "ipython3",
   "version": "3.7.4"
  }
 },
 "nbformat": 4,
 "nbformat_minor": 1
}
